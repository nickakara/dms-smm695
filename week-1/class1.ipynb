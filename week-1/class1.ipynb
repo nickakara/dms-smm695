{
 "cells": [
  {
   "cell_type": "code",
   "execution_count": 3,
   "metadata": {},
   "outputs": [],
   "source": [
    "import pandas as pd\n",
    "import numpy as np"
   ]
  },
  {
   "cell_type": "code",
   "execution_count": 7,
   "metadata": {},
   "outputs": [
    {
     "ename": "SyntaxError",
     "evalue": "unexpected EOF while parsing (1670915964.py, line 1)",
     "output_type": "error",
     "traceback": [
      "\u001b[0;36m  Input \u001b[0;32mIn [7]\u001b[0;36m\u001b[0m\n\u001b[0;31m    data = pd.read_csv(\"webinar-1/artworkRandomSample.csv\"\u001b[0m\n\u001b[0m                                                          ^\u001b[0m\n\u001b[0;31mSyntaxError\u001b[0m\u001b[0;31m:\u001b[0m unexpected EOF while parsing\n"
     ]
    }
   ],
   "source": [
    "data = pd.read_csv(\"webinar-1/artworkRandomSample.csv\""
   ]
  },
  {
   "cell_type": "code",
   "execution_count": 8,
   "metadata": {},
   "outputs": [],
   "source": [
    "# drop unnamed:0 column from data\n",
    "data = data.drop('Unnamed: 0', axis=1)\n"
   ]
  },
  {
   "cell_type": "code",
   "execution_count": 9,
   "metadata": {},
   "outputs": [
    {
     "data": {
      "text/html": [
       "<div>\n",
       "<style scoped>\n",
       "    .dataframe tbody tr th:only-of-type {\n",
       "        vertical-align: middle;\n",
       "    }\n",
       "\n",
       "    .dataframe tbody tr th {\n",
       "        vertical-align: top;\n",
       "    }\n",
       "\n",
       "    .dataframe thead th {\n",
       "        text-align: right;\n",
       "    }\n",
       "</style>\n",
       "<table border=\"1\" class=\"dataframe\">\n",
       "  <thead>\n",
       "    <tr style=\"text-align: right;\">\n",
       "      <th></th>\n",
       "      <th>id</th>\n",
       "      <th>artist</th>\n",
       "      <th>artistRole</th>\n",
       "      <th>artistId</th>\n",
       "      <th>title</th>\n",
       "      <th>medium</th>\n",
       "      <th>creditLine</th>\n",
       "      <th>year</th>\n",
       "      <th>acquisitionYear</th>\n",
       "      <th>dimensions</th>\n",
       "      <th>width</th>\n",
       "      <th>height</th>\n",
       "      <th>depth</th>\n",
       "      <th>units</th>\n",
       "      <th>inscription</th>\n",
       "      <th>thumbnailCopyright</th>\n",
       "      <th>thumbnailUrl</th>\n",
       "      <th>url</th>\n",
       "    </tr>\n",
       "  </thead>\n",
       "  <tbody>\n",
       "    <tr>\n",
       "      <th>0</th>\n",
       "      <td>59073</td>\n",
       "      <td>Turner, Joseph Mallord William</td>\n",
       "      <td>artist</td>\n",
       "      <td>558</td>\n",
       "      <td>On the Giudecca Canal, with Santa Marta</td>\n",
       "      <td>Graphite on paper</td>\n",
       "      <td>Accepted by the nation as part of the Turner B...</td>\n",
       "      <td>1840.0</td>\n",
       "      <td>1856.0</td>\n",
       "      <td>support: 173 x 123 mm</td>\n",
       "      <td>173.0</td>\n",
       "      <td>123.0</td>\n",
       "      <td>NaN</td>\n",
       "      <td>mm</td>\n",
       "      <td>NaN</td>\n",
       "      <td>NaN</td>\n",
       "      <td>http://www.tate.org.uk/art/images/work/D/D31/D...</td>\n",
       "      <td>http://www.tate.org.uk/art/artworks/turner-on-...</td>\n",
       "    </tr>\n",
       "    <tr>\n",
       "      <th>1</th>\n",
       "      <td>10657</td>\n",
       "      <td>Nicholson, Ben, OM</td>\n",
       "      <td>artist</td>\n",
       "      <td>1702</td>\n",
       "      <td>untitled</td>\n",
       "      <td>Etching on paper</td>\n",
       "      <td>Presented by Waddington Galleries through the ...</td>\n",
       "      <td>1967.0</td>\n",
       "      <td>1975.0</td>\n",
       "      <td>image: 340 x 181 mm</td>\n",
       "      <td>340.0</td>\n",
       "      <td>181.0</td>\n",
       "      <td>NaN</td>\n",
       "      <td>mm</td>\n",
       "      <td>date inscribed</td>\n",
       "      <td>© Angela Verren Taunt 2014. All rights reserve...</td>\n",
       "      <td>http://www.tate.org.uk/art/images/work/P/P01/P...</td>\n",
       "      <td>http://www.tate.org.uk/art/artworks/nicholson-...</td>\n",
       "    </tr>\n",
       "    <tr>\n",
       "      <th>2</th>\n",
       "      <td>57087</td>\n",
       "      <td>Turner, Joseph Mallord William</td>\n",
       "      <td>artist</td>\n",
       "      <td>558</td>\n",
       "      <td>Heidelberg Castle: The Gate Tower and Broken T...</td>\n",
       "      <td>Graphite on paper</td>\n",
       "      <td>Accepted by the nation as part of the Turner B...</td>\n",
       "      <td>1833.0</td>\n",
       "      <td>1856.0</td>\n",
       "      <td>support: 165 x 110 mm</td>\n",
       "      <td>165.0</td>\n",
       "      <td>110.0</td>\n",
       "      <td>NaN</td>\n",
       "      <td>mm</td>\n",
       "      <td>NaN</td>\n",
       "      <td>NaN</td>\n",
       "      <td>http://www.tate.org.uk/art/images/work/D/D29/D...</td>\n",
       "      <td>http://www.tate.org.uk/art/artworks/turner-hei...</td>\n",
       "    </tr>\n",
       "    <tr>\n",
       "      <th>3</th>\n",
       "      <td>47203</td>\n",
       "      <td>Turner, Joseph Mallord William</td>\n",
       "      <td>artist</td>\n",
       "      <td>558</td>\n",
       "      <td>On the Rhine</td>\n",
       "      <td>Graphite on paper</td>\n",
       "      <td>Accepted by the nation as part of the Turner B...</td>\n",
       "      <td>1824.0</td>\n",
       "      <td>1856.0</td>\n",
       "      <td>support: 118 x 78 mm</td>\n",
       "      <td>118.0</td>\n",
       "      <td>78.0</td>\n",
       "      <td>NaN</td>\n",
       "      <td>mm</td>\n",
       "      <td>NaN</td>\n",
       "      <td>NaN</td>\n",
       "      <td>http://www.tate.org.uk/art/images/work/D/D19/D...</td>\n",
       "      <td>http://www.tate.org.uk/art/artworks/turner-on-...</td>\n",
       "    </tr>\n",
       "    <tr>\n",
       "      <th>4</th>\n",
       "      <td>21659</td>\n",
       "      <td>Eyton, Anthony</td>\n",
       "      <td>artist</td>\n",
       "      <td>1075</td>\n",
       "      <td>Bankside - The Turbine Hall</td>\n",
       "      <td>Oil paint on canvas</td>\n",
       "      <td>Purchased with assistance from the Charlotte B...</td>\n",
       "      <td>1995.0</td>\n",
       "      <td>1996.0</td>\n",
       "      <td>support: 1514 x 1268 x 25 mm frame: 1676 x 143...</td>\n",
       "      <td>1514.0</td>\n",
       "      <td>1268.0</td>\n",
       "      <td>25.0</td>\n",
       "      <td>mm</td>\n",
       "      <td>NaN</td>\n",
       "      <td>© Anthony Eyton. All Rights Reserved 2010 / Br...</td>\n",
       "      <td>http://www.tate.org.uk/art/images/work/T/T07/T...</td>\n",
       "      <td>http://www.tate.org.uk/art/artworks/eyton-bank...</td>\n",
       "    </tr>\n",
       "  </tbody>\n",
       "</table>\n",
       "</div>"
      ],
      "text/plain": [
       "      id                          artist artistRole  artistId  \\\n",
       "0  59073  Turner, Joseph Mallord William     artist       558   \n",
       "1  10657              Nicholson, Ben, OM     artist      1702   \n",
       "2  57087  Turner, Joseph Mallord William     artist       558   \n",
       "3  47203  Turner, Joseph Mallord William     artist       558   \n",
       "4  21659                  Eyton, Anthony     artist      1075   \n",
       "\n",
       "                                               title               medium  \\\n",
       "0            On the Giudecca Canal, with Santa Marta    Graphite on paper   \n",
       "1                                           untitled     Etching on paper   \n",
       "2  Heidelberg Castle: The Gate Tower and Broken T...    Graphite on paper   \n",
       "3                                       On the Rhine    Graphite on paper   \n",
       "4                        Bankside - The Turbine Hall  Oil paint on canvas   \n",
       "\n",
       "                                          creditLine    year  acquisitionYear  \\\n",
       "0  Accepted by the nation as part of the Turner B...  1840.0           1856.0   \n",
       "1  Presented by Waddington Galleries through the ...  1967.0           1975.0   \n",
       "2  Accepted by the nation as part of the Turner B...  1833.0           1856.0   \n",
       "3  Accepted by the nation as part of the Turner B...  1824.0           1856.0   \n",
       "4  Purchased with assistance from the Charlotte B...  1995.0           1996.0   \n",
       "\n",
       "                                          dimensions   width  height  depth  \\\n",
       "0                              support: 173 x 123 mm   173.0   123.0    NaN   \n",
       "1                                image: 340 x 181 mm   340.0   181.0    NaN   \n",
       "2                              support: 165 x 110 mm   165.0   110.0    NaN   \n",
       "3                               support: 118 x 78 mm   118.0    78.0    NaN   \n",
       "4  support: 1514 x 1268 x 25 mm frame: 1676 x 143...  1514.0  1268.0   25.0   \n",
       "\n",
       "  units     inscription                                 thumbnailCopyright  \\\n",
       "0    mm             NaN                                                NaN   \n",
       "1    mm  date inscribed  © Angela Verren Taunt 2014. All rights reserve...   \n",
       "2    mm             NaN                                                NaN   \n",
       "3    mm             NaN                                                NaN   \n",
       "4    mm             NaN  © Anthony Eyton. All Rights Reserved 2010 / Br...   \n",
       "\n",
       "                                        thumbnailUrl  \\\n",
       "0  http://www.tate.org.uk/art/images/work/D/D31/D...   \n",
       "1  http://www.tate.org.uk/art/images/work/P/P01/P...   \n",
       "2  http://www.tate.org.uk/art/images/work/D/D29/D...   \n",
       "3  http://www.tate.org.uk/art/images/work/D/D19/D...   \n",
       "4  http://www.tate.org.uk/art/images/work/T/T07/T...   \n",
       "\n",
       "                                                 url  \n",
       "0  http://www.tate.org.uk/art/artworks/turner-on-...  \n",
       "1  http://www.tate.org.uk/art/artworks/nicholson-...  \n",
       "2  http://www.tate.org.uk/art/artworks/turner-hei...  \n",
       "3  http://www.tate.org.uk/art/artworks/turner-on-...  \n",
       "4  http://www.tate.org.uk/art/artworks/eyton-bank...  "
      ]
     },
     "execution_count": 9,
     "metadata": {},
     "output_type": "execute_result"
    }
   ],
   "source": [
    "data.head()"
   ]
  },
  {
   "cell_type": "code",
   "execution_count": 10,
   "metadata": {},
   "outputs": [
    {
     "data": {
      "text/plain": [
       "Index(['id', 'artist', 'artistRole', 'artistId', 'title', 'medium',\n",
       "       'creditLine', 'year', 'acquisitionYear', 'dimensions', 'width',\n",
       "       'height', 'depth', 'units', 'inscription', 'thumbnailCopyright',\n",
       "       'thumbnailUrl', 'url'],\n",
       "      dtype='object')"
      ]
     },
     "execution_count": 10,
     "metadata": {},
     "output_type": "execute_result"
    }
   ],
   "source": [
    "data.columns"
   ]
  },
  {
   "cell_type": "code",
   "execution_count": null,
   "metadata": {},
   "outputs": [],
   "source": [
    "data_id_columns = [\"artistId\", \"artist\", \"\"]\n",
    "data_title = [\"artistId\", \"title\", \"medium\", \"\"]"
   ]
  }
 ],
 "metadata": {
  "interpreter": {
   "hash": "840b2e033513a9a1aabbde1edf7abed20389c31a6f5f9f64a5c25df159e2099b"
  },
  "kernelspec": {
   "display_name": "Python 3.8.12 ('nft')",
   "language": "python",
   "name": "python3"
  },
  "language_info": {
   "codemirror_mode": {
    "name": "ipython",
    "version": 3
   },
   "file_extension": ".py",
   "mimetype": "text/x-python",
   "name": "python",
   "nbconvert_exporter": "python",
   "pygments_lexer": "ipython3",
   "version": "3.8.12"
  },
  "orig_nbformat": 4
 },
 "nbformat": 4,
 "nbformat_minor": 2
}
